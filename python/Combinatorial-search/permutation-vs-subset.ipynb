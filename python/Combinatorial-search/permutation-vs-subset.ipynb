{
 "cells": [
  {
   "cell_type": "code",
   "execution_count": 1,
   "source": [
    "import numpy as np  \r\n",
    "import matplotlib.pyplot as plt\r\n",
    "\r\n",
    "def fact(n):\r\n",
    "    if n<=1:\r\n",
    "        return 1\r\n",
    "    return n * fact(n-1)\r\n",
    "def subset(n):\r\n",
    "    return pow(2,n)\r\n"
   ],
   "outputs": [],
   "metadata": {}
  },
  {
   "cell_type": "code",
   "execution_count": 58,
   "source": [
    "count = 30\r\n",
    "\r\n",
    "facts,subsets = range(count),range(30,2)\r\n",
    "\r\n",
    "plt.plot(facts,le)"
   ],
   "outputs": [
    {
     "output_type": "execute_result",
     "data": {
      "text/plain": [
       "[<matplotlib.lines.Line2D at 0x2d1e1a0b070>]"
      ]
     },
     "metadata": {},
     "execution_count": 58
    },
    {
     "output_type": "display_data",
     "data": {
      "text/plain": [
       "<Figure size 432x288 with 1 Axes>"
      ],
      "image/png": "[encoded data removed]"
     },
     "metadata": {
      "needs_background": "light"
     }
    }
   ],
   "metadata": {}
  }
 ],
 "metadata": {
  "orig_nbformat": 4,
  "language_info": {
   "name": "python",
   "version": "3.8.5",
   "mimetype": "text/x-python",
   "codemirror_mode": {
    "name": "ipython",
    "version": 3
   },
   "pygments_lexer": "ipython3",
   "nbconvert_exporter": "python",
   "file_extension": ".py"
  },
  "kernelspec": {
   "name": "python3",
   "display_name": "Python 3.8.5 64-bit ('base': conda)"
  },
  "interpreter": {
   "hash": "339cf4e4b9e97d2e6000026cc1e0d7172442d29279cd7f106eb7760bbe6f0317"
  }
 },
 "nbformat": 4,
 "nbformat_minor": 2
}